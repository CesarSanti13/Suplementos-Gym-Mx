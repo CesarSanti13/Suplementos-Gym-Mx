{
 "cells": [
  {
   "cell_type": "code",
   "execution_count": 1,
   "id": "afb8e7d6-8395-4882-b8fc-bac582a8ab0a",
   "metadata": {},
   "outputs": [
    {
     "name": "stderr",
     "output_type": "stream",
     "text": [
      "C:\\Users\\CESAR\\AppData\\Local\\Temp\\ipykernel_3220\\3926955974.py:14: UserWarning: Parsing dates in %d/%m/%Y %H:%M:%S format when dayfirst=False (the default) was specified. Pass `dayfirst=True` or specify a format to silence this warning.\n",
      "  dfVentasComple['Fecha'] = pd.to_datetime(dfVentasComple['Fecha'])\n"
     ]
    },
    {
     "data": {
      "text/html": [
       "<div>\n",
       "<style scoped>\n",
       "    .dataframe tbody tr th:only-of-type {\n",
       "        vertical-align: middle;\n",
       "    }\n",
       "\n",
       "    .dataframe tbody tr th {\n",
       "        vertical-align: top;\n",
       "    }\n",
       "\n",
       "    .dataframe thead th {\n",
       "        text-align: right;\n",
       "    }\n",
       "</style>\n",
       "<table border=\"1\" class=\"dataframe\">\n",
       "  <thead>\n",
       "    <tr style=\"text-align: right;\">\n",
       "      <th></th>\n",
       "      <th>Año</th>\n",
       "      <th>Mes</th>\n",
       "      <th>Marca</th>\n",
       "      <th>Cantidad</th>\n",
       "      <th>Total</th>\n",
       "      <th>Margen</th>\n",
       "    </tr>\n",
       "  </thead>\n",
       "  <tbody>\n",
       "    <tr>\n",
       "      <th>0</th>\n",
       "      <td>2025</td>\n",
       "      <td>3</td>\n",
       "      <td>Ferring</td>\n",
       "      <td>54</td>\n",
       "      <td>8580.00</td>\n",
       "      <td>2960.00</td>\n",
       "    </tr>\n",
       "    <tr>\n",
       "      <th>1</th>\n",
       "      <td>2025</td>\n",
       "      <td>3</td>\n",
       "      <td>Activex</td>\n",
       "      <td>25</td>\n",
       "      <td>10129.58</td>\n",
       "      <td>4204.58</td>\n",
       "    </tr>\n",
       "    <tr>\n",
       "      <th>2</th>\n",
       "      <td>2025</td>\n",
       "      <td>3</td>\n",
       "      <td>Rotterdam Pharma</td>\n",
       "      <td>24</td>\n",
       "      <td>8100.00</td>\n",
       "      <td>2340.00</td>\n",
       "    </tr>\n",
       "    <tr>\n",
       "      <th>3</th>\n",
       "      <td>2025</td>\n",
       "      <td>4</td>\n",
       "      <td>Ferring</td>\n",
       "      <td>93</td>\n",
       "      <td>14140.00</td>\n",
       "      <td>4785.00</td>\n",
       "    </tr>\n",
       "    <tr>\n",
       "      <th>4</th>\n",
       "      <td>2025</td>\n",
       "      <td>4</td>\n",
       "      <td>XT Labs</td>\n",
       "      <td>26</td>\n",
       "      <td>10590.00</td>\n",
       "      <td>3465.00</td>\n",
       "    </tr>\n",
       "    <tr>\n",
       "      <th>5</th>\n",
       "      <td>2025</td>\n",
       "      <td>4</td>\n",
       "      <td>Activex</td>\n",
       "      <td>18</td>\n",
       "      <td>7140.00</td>\n",
       "      <td>2790.00</td>\n",
       "    </tr>\n",
       "    <tr>\n",
       "      <th>6</th>\n",
       "      <td>2025</td>\n",
       "      <td>5</td>\n",
       "      <td>Ferring</td>\n",
       "      <td>75</td>\n",
       "      <td>11480.00</td>\n",
       "      <td>3925.00</td>\n",
       "    </tr>\n",
       "    <tr>\n",
       "      <th>7</th>\n",
       "      <td>2025</td>\n",
       "      <td>5</td>\n",
       "      <td>Rotterdam Pharma</td>\n",
       "      <td>43</td>\n",
       "      <td>14230.00</td>\n",
       "      <td>3910.00</td>\n",
       "    </tr>\n",
       "    <tr>\n",
       "      <th>8</th>\n",
       "      <td>2025</td>\n",
       "      <td>5</td>\n",
       "      <td>Activex</td>\n",
       "      <td>27</td>\n",
       "      <td>8789.69</td>\n",
       "      <td>3084.69</td>\n",
       "    </tr>\n",
       "    <tr>\n",
       "      <th>9</th>\n",
       "      <td>2025</td>\n",
       "      <td>6</td>\n",
       "      <td>Rotterdam Pharma</td>\n",
       "      <td>34</td>\n",
       "      <td>10680.00</td>\n",
       "      <td>2520.00</td>\n",
       "    </tr>\n",
       "    <tr>\n",
       "      <th>10</th>\n",
       "      <td>2025</td>\n",
       "      <td>6</td>\n",
       "      <td>XT Labs</td>\n",
       "      <td>30</td>\n",
       "      <td>10880.00</td>\n",
       "      <td>2845.00</td>\n",
       "    </tr>\n",
       "    <tr>\n",
       "      <th>11</th>\n",
       "      <td>2025</td>\n",
       "      <td>6</td>\n",
       "      <td>Ferring</td>\n",
       "      <td>16</td>\n",
       "      <td>2820.00</td>\n",
       "      <td>1220.00</td>\n",
       "    </tr>\n",
       "    <tr>\n",
       "      <th>12</th>\n",
       "      <td>2025</td>\n",
       "      <td>7</td>\n",
       "      <td>Genli</td>\n",
       "      <td>32</td>\n",
       "      <td>10938.87</td>\n",
       "      <td>5978.87</td>\n",
       "    </tr>\n",
       "    <tr>\n",
       "      <th>13</th>\n",
       "      <td>2025</td>\n",
       "      <td>7</td>\n",
       "      <td>XT Labs</td>\n",
       "      <td>21</td>\n",
       "      <td>7726.40</td>\n",
       "      <td>2671.40</td>\n",
       "    </tr>\n",
       "    <tr>\n",
       "      <th>14</th>\n",
       "      <td>2025</td>\n",
       "      <td>7</td>\n",
       "      <td>Alpha Labs</td>\n",
       "      <td>19</td>\n",
       "      <td>5040.00</td>\n",
       "      <td>90.00</td>\n",
       "    </tr>\n",
       "    <tr>\n",
       "      <th>15</th>\n",
       "      <td>2025</td>\n",
       "      <td>8</td>\n",
       "      <td>Genli</td>\n",
       "      <td>56</td>\n",
       "      <td>19900.00</td>\n",
       "      <td>10875.00</td>\n",
       "    </tr>\n",
       "    <tr>\n",
       "      <th>16</th>\n",
       "      <td>2025</td>\n",
       "      <td>8</td>\n",
       "      <td>Rotterdam Pharma</td>\n",
       "      <td>34</td>\n",
       "      <td>11150.00</td>\n",
       "      <td>2990.00</td>\n",
       "    </tr>\n",
       "    <tr>\n",
       "      <th>17</th>\n",
       "      <td>2025</td>\n",
       "      <td>8</td>\n",
       "      <td>Activex</td>\n",
       "      <td>26</td>\n",
       "      <td>8979.09</td>\n",
       "      <td>3739.09</td>\n",
       "    </tr>\n",
       "  </tbody>\n",
       "</table>\n",
       "</div>"
      ],
      "text/plain": [
       "     Año  Mes             Marca  Cantidad     Total    Margen\n",
       "0   2025    3           Ferring        54   8580.00   2960.00\n",
       "1   2025    3           Activex        25  10129.58   4204.58\n",
       "2   2025    3  Rotterdam Pharma        24   8100.00   2340.00\n",
       "3   2025    4           Ferring        93  14140.00   4785.00\n",
       "4   2025    4           XT Labs        26  10590.00   3465.00\n",
       "5   2025    4           Activex        18   7140.00   2790.00\n",
       "6   2025    5           Ferring        75  11480.00   3925.00\n",
       "7   2025    5  Rotterdam Pharma        43  14230.00   3910.00\n",
       "8   2025    5           Activex        27   8789.69   3084.69\n",
       "9   2025    6  Rotterdam Pharma        34  10680.00   2520.00\n",
       "10  2025    6           XT Labs        30  10880.00   2845.00\n",
       "11  2025    6           Ferring        16   2820.00   1220.00\n",
       "12  2025    7             Genli        32  10938.87   5978.87\n",
       "13  2025    7           XT Labs        21   7726.40   2671.40\n",
       "14  2025    7        Alpha Labs        19   5040.00     90.00\n",
       "15  2025    8             Genli        56  19900.00  10875.00\n",
       "16  2025    8  Rotterdam Pharma        34  11150.00   2990.00\n",
       "17  2025    8           Activex        26   8979.09   3739.09"
      ]
     },
     "execution_count": 1,
     "metadata": {},
     "output_type": "execute_result"
    }
   ],
   "source": [
    "import pandas as pd\n",
    "import matplotlib.pyplot as plt\n",
    "import plotly.express as px\n",
    "import seaborn as sns\n",
    "\n",
    "#Leemos nuestro dataset que esta en un archivo xlsx que paso el cliente\n",
    "dfVentasComple = pd.read_excel('Ventas Mar-Ago.xlsx')\n",
    "\n",
    "#hacemos drop de unas columnas que comentaron que no son necesarias agregar en lo mas minimo creando una array de las columnas a eliminar\n",
    "dropColumns = ['SKU','Código de Barras','Lote','Caducidad del Lote','Estado','Entrega','Cajero','Vendedor','Caja','Sucursal','Canal']\n",
    "dfVentasComple = dfVentasComple.drop(columns=dropColumns).reset_index()\n",
    "\n",
    "#Ahora estandarizamos los datos de la fecha de las ventas del cliente pasandolo de un string a un formato de fecha\n",
    "dfVentasComple['Fecha'] = pd.to_datetime(dfVentasComple['Fecha'])\n",
    "\n",
    "#Aplicamos el redondeo a los valores de las columnas dejandolo solo en 2 decimales\n",
    "dfVentasComple['Descuento'] = dfVentasComple['Descuento'].round(2)\n",
    "dfVentasComple['Margen'] = dfVentasComple['Margen'].round(2)\n",
    "dfVentasComple['Total'] = dfVentasComple['Total'].round(2)\n",
    "\n",
    "#Cambiamos el nombre de una columna ya que no se entendia muy bien ya que es precio unitario es decir precio por cada pieza\n",
    "dfVentasComple = dfVentasComple.rename(columns={'Precio Unitario': 'Precio de Venta'})\n",
    "\n",
    "#Igualmente creamos 2 nuevas columnas dentro de nuestro set de datos el cual tendra el mes y año de la fecha de la venta que se realizo esto\n",
    "#para un analisis todavia mas profundo de los datos.\n",
    "dfVentasComple['Mes'] = dfVentasComple['Fecha'].dt.month\n",
    "dfVentasComple['Año'] = dfVentasComple['Fecha'].dt.year\n",
    "\n",
    "#En otro dataframe almacenamos los productos que sean de envio ya que esos no se tomaran para el analisis de las ventas si no como gastos\n",
    "dfEnvios = dfVentasComple[dfVentasComple['Producto'] == 'Envio'].reset_index()\n",
    "\n",
    "#Ahora ya que sacamos los envios en el mismo dataframe solo obtenemos las ventas que no sean envios para su analisis\n",
    "dfVentasComple = dfVentasComple[dfVentasComple['Producto'] != 'Envio'].sort_values(by= 'Fecha', ascending = True).reset_index(drop=True)\n",
    "\n",
    "#Obtenemos un valor que dentro de el set de datos que no estaba, este es el costo unitario por producto es decir lo que le cuesta cada\n",
    "#producto unitariamente ya que el set de datos lo tiene todo junto\n",
    "dfVentasComple['Costo Unitario'] = dfVentasComple['Costo'] / dfVentasComple['Cantidad']\n",
    "\n",
    "#Reordenamos todo nuestro DF principal de las ventas para su mejor manipulacion y visualizacion\n",
    "dfVentasComple = dfVentasComple[[\"index\", \"Número de Venta\", \"Fecha\", \"Mes\", \"Año\", \"Producto\", \"Categoria\", \"Marca\",\n",
    "         \"Costo Unitario\", \"Cantidad\", \"Costo\", \"Subtotal\", \"Descuento\",\n",
    "         \"Total\", \"Margen\", \"Cliente\"]]\n",
    "\n",
    "#Obtenemos un nuevo dataframe a peticion del cliente quitando las categorias suplementos (ya que estos son genericos y no les interesa saber su analisis)\n",
    "#son propios de maquila solo interes suplementacion Americana (de importacion)\n",
    "#este nuevo dataframe agrupado por año, mes y la MARCA, sumando los valores de la cantidad, total y margen de cada una de las marcas diferentes del DF\n",
    "#ordenado por la marca y el mes de venta de forma ascendente cada una\n",
    "dfVentasMarcaMensual = dfVentasComple[dfVentasComple['Categoria'] != 'Suplementos']\n",
    "dfVentasMarcaMensual = (dfVentasMarcaMensual.groupby(['Año','Mes','Marca'])[['Cantidad','Total','Margen']].sum()\n",
    "    .sort_values(by= ['Marca','Mes'], ascending = [True,True])\n",
    "    .reset_index())\n",
    "\n",
    "#De nuestro DF de ventas por marca de cada mes, ordenamos los valores por año de menor a mayor, por mes de menor a mayor y cantidad de mayor a menor\n",
    "#posteriormente agrupandolos por año y mes para poder obtener los primeros 3 valores de cada mes de cada año del set de datos\n",
    "dfTop3MarcasMesUnidades = (dfVentasMarcaMensual.sort_values([\"Año\",\"Mes\",\"Cantidad\"], ascending=[True,True,False]).groupby([\"Año\",\"Mes\"]).head(3)                                                            # quedarnos con los 5 primeros\n",
    "    .reset_index(drop=True))\n",
    "dfTop3MarcasMesUnidades"
   ]
  },
  {
   "cell_type": "code",
   "execution_count": 2,
   "id": "a98b4b75-c270-4561-91ce-9168341cffb1",
   "metadata": {},
   "outputs": [
    {
     "data": {
      "application/vnd.plotly.v1+json": {
       "config": {
        "plotlyServerURL": "https://plot.ly"
       },
       "data": [
        {
         "hovertemplate": "Marca=Ferring<br>Mes=%{x}<br>Cantidad=%{text}<extra></extra>",
         "legendgroup": "Ferring",
         "marker": {
          "color": "#636efa",
          "pattern": {
           "shape": ""
          }
         },
         "name": "Ferring",
         "orientation": "v",
         "showlegend": true,
         "text": {
          "bdata": "AAAAAAAAS0AAAAAAAEBXQAAAAAAAwFJAAAAAAAAAMEA=",
          "dtype": "f8"
         },
         "textposition": "auto",
         "type": "bar",
         "x": {
          "bdata": "AwAAAAQAAAAFAAAABgAAAA==",
          "dtype": "i4"
         },
         "xaxis": "x",
         "y": {
          "bdata": "Nl1LEA==",
          "dtype": "i1"
         },
         "yaxis": "y"
        },
        {
         "hovertemplate": "Marca=Activex<br>Mes=%{x}<br>Cantidad=%{text}<extra></extra>",
         "legendgroup": "Activex",
         "marker": {
          "color": "#EF553B",
          "pattern": {
           "shape": ""
          }
         },
         "name": "Activex",
         "orientation": "v",
         "showlegend": true,
         "text": {
          "bdata": "AAAAAAAAOUAAAAAAAAAyQAAAAAAAADtAAAAAAAAAOkA=",
          "dtype": "f8"
         },
         "textposition": "auto",
         "type": "bar",
         "x": {
          "bdata": "AwAAAAQAAAAFAAAACAAAAA==",
          "dtype": "i4"
         },
         "xaxis": "x",
         "y": {
          "bdata": "GRIbGg==",
          "dtype": "i1"
         },
         "yaxis": "y"
        },
        {
         "hovertemplate": "Marca=Rotterdam Pharma<br>Mes=%{x}<br>Cantidad=%{text}<extra></extra>",
         "legendgroup": "Rotterdam Pharma",
         "marker": {
          "color": "#00cc96",
          "pattern": {
           "shape": ""
          }
         },
         "name": "Rotterdam Pharma",
         "orientation": "v",
         "showlegend": true,
         "text": {
          "bdata": "AAAAAAAAOEAAAAAAAIBFQAAAAAAAAEFAAAAAAAAAQUA=",
          "dtype": "f8"
         },
         "textposition": "auto",
         "type": "bar",
         "x": {
          "bdata": "AwAAAAUAAAAGAAAACAAAAA==",
          "dtype": "i4"
         },
         "xaxis": "x",
         "y": {
          "bdata": "GCsiIg==",
          "dtype": "i1"
         },
         "yaxis": "y"
        },
        {
         "hovertemplate": "Marca=XT Labs<br>Mes=%{x}<br>Cantidad=%{text}<extra></extra>",
         "legendgroup": "XT Labs",
         "marker": {
          "color": "#ab63fa",
          "pattern": {
           "shape": ""
          }
         },
         "name": "XT Labs",
         "orientation": "v",
         "showlegend": true,
         "text": {
          "bdata": "AAAAAAAAOkAAAAAAAAA+QAAAAAAAADVA",
          "dtype": "f8"
         },
         "textposition": "auto",
         "type": "bar",
         "x": {
          "bdata": "BAAAAAYAAAAHAAAA",
          "dtype": "i4"
         },
         "xaxis": "x",
         "y": {
          "bdata": "Gh4V",
          "dtype": "i1"
         },
         "yaxis": "y"
        },
        {
         "hovertemplate": "Marca=Genli<br>Mes=%{x}<br>Cantidad=%{text}<extra></extra>",
         "legendgroup": "Genli",
         "marker": {
          "color": "#FFA15A",
          "pattern": {
           "shape": ""
          }
         },
         "name": "Genli",
         "orientation": "v",
         "showlegend": true,
         "text": {
          "bdata": "AAAAAAAAQEAAAAAAAABMQA==",
          "dtype": "f8"
         },
         "textposition": "auto",
         "type": "bar",
         "x": {
          "bdata": "BwAAAAgAAAA=",
          "dtype": "i4"
         },
         "xaxis": "x",
         "y": {
          "bdata": "IDg=",
          "dtype": "i1"
         },
         "yaxis": "y"
        },
        {
         "hovertemplate": "Marca=Alpha Labs<br>Mes=%{x}<br>Cantidad=%{text}<extra></extra>",
         "legendgroup": "Alpha Labs",
         "marker": {
          "color": "#19d3f3",
          "pattern": {
           "shape": ""
          }
         },
         "name": "Alpha Labs",
         "orientation": "v",
         "showlegend": true,
         "text": {
          "bdata": "AAAAAAAAM0A=",
          "dtype": "f8"
         },
         "textposition": "auto",
         "type": "bar",
         "x": {
          "bdata": "BwAAAA==",
          "dtype": "i4"
         },
         "xaxis": "x",
         "y": {
          "bdata": "Ew==",
          "dtype": "i1"
         },
         "yaxis": "y"
        }
       ],
       "layout": {
        "barmode": "stack",
        "height": 800,
        "legend": {
         "title": {
          "text": "Marca"
         },
         "tracegroupgap": 0
        },
        "template": {
         "data": {
          "bar": [
           {
            "error_x": {
             "color": "#2a3f5f"
            },
            "error_y": {
             "color": "#2a3f5f"
            },
            "marker": {
             "line": {
              "color": "#E5ECF6",
              "width": 0.5
             },
             "pattern": {
              "fillmode": "overlay",
              "size": 10,
              "solidity": 0.2
             }
            },
            "type": "bar"
           }
          ],
          "barpolar": [
           {
            "marker": {
             "line": {
              "color": "#E5ECF6",
              "width": 0.5
             },
             "pattern": {
              "fillmode": "overlay",
              "size": 10,
              "solidity": 0.2
             }
            },
            "type": "barpolar"
           }
          ],
          "carpet": [
           {
            "aaxis": {
             "endlinecolor": "#2a3f5f",
             "gridcolor": "white",
             "linecolor": "white",
             "minorgridcolor": "white",
             "startlinecolor": "#2a3f5f"
            },
            "baxis": {
             "endlinecolor": "#2a3f5f",
             "gridcolor": "white",
             "linecolor": "white",
             "minorgridcolor": "white",
             "startlinecolor": "#2a3f5f"
            },
            "type": "carpet"
           }
          ],
          "choropleth": [
           {
            "colorbar": {
             "outlinewidth": 0,
             "ticks": ""
            },
            "type": "choropleth"
           }
          ],
          "contour": [
           {
            "colorbar": {
             "outlinewidth": 0,
             "ticks": ""
            },
            "colorscale": [
             [
              0,
              "#0d0887"
             ],
             [
              0.1111111111111111,
              "#46039f"
             ],
             [
              0.2222222222222222,
              "#7201a8"
             ],
             [
              0.3333333333333333,
              "#9c179e"
             ],
             [
              0.4444444444444444,
              "#bd3786"
             ],
             [
              0.5555555555555556,
              "#d8576b"
             ],
             [
              0.6666666666666666,
              "#ed7953"
             ],
             [
              0.7777777777777778,
              "#fb9f3a"
             ],
             [
              0.8888888888888888,
              "#fdca26"
             ],
             [
              1,
              "#f0f921"
             ]
            ],
            "type": "contour"
           }
          ],
          "contourcarpet": [
           {
            "colorbar": {
             "outlinewidth": 0,
             "ticks": ""
            },
            "type": "contourcarpet"
           }
          ],
          "heatmap": [
           {
            "colorbar": {
             "outlinewidth": 0,
             "ticks": ""
            },
            "colorscale": [
             [
              0,
              "#0d0887"
             ],
             [
              0.1111111111111111,
              "#46039f"
             ],
             [
              0.2222222222222222,
              "#7201a8"
             ],
             [
              0.3333333333333333,
              "#9c179e"
             ],
             [
              0.4444444444444444,
              "#bd3786"
             ],
             [
              0.5555555555555556,
              "#d8576b"
             ],
             [
              0.6666666666666666,
              "#ed7953"
             ],
             [
              0.7777777777777778,
              "#fb9f3a"
             ],
             [
              0.8888888888888888,
              "#fdca26"
             ],
             [
              1,
              "#f0f921"
             ]
            ],
            "type": "heatmap"
           }
          ],
          "histogram": [
           {
            "marker": {
             "pattern": {
              "fillmode": "overlay",
              "size": 10,
              "solidity": 0.2
             }
            },
            "type": "histogram"
           }
          ],
          "histogram2d": [
           {
            "colorbar": {
             "outlinewidth": 0,
             "ticks": ""
            },
            "colorscale": [
             [
              0,
              "#0d0887"
             ],
             [
              0.1111111111111111,
              "#46039f"
             ],
             [
              0.2222222222222222,
              "#7201a8"
             ],
             [
              0.3333333333333333,
              "#9c179e"
             ],
             [
              0.4444444444444444,
              "#bd3786"
             ],
             [
              0.5555555555555556,
              "#d8576b"
             ],
             [
              0.6666666666666666,
              "#ed7953"
             ],
             [
              0.7777777777777778,
              "#fb9f3a"
             ],
             [
              0.8888888888888888,
              "#fdca26"
             ],
             [
              1,
              "#f0f921"
             ]
            ],
            "type": "histogram2d"
           }
          ],
          "histogram2dcontour": [
           {
            "colorbar": {
             "outlinewidth": 0,
             "ticks": ""
            },
            "colorscale": [
             [
              0,
              "#0d0887"
             ],
             [
              0.1111111111111111,
              "#46039f"
             ],
             [
              0.2222222222222222,
              "#7201a8"
             ],
             [
              0.3333333333333333,
              "#9c179e"
             ],
             [
              0.4444444444444444,
              "#bd3786"
             ],
             [
              0.5555555555555556,
              "#d8576b"
             ],
             [
              0.6666666666666666,
              "#ed7953"
             ],
             [
              0.7777777777777778,
              "#fb9f3a"
             ],
             [
              0.8888888888888888,
              "#fdca26"
             ],
             [
              1,
              "#f0f921"
             ]
            ],
            "type": "histogram2dcontour"
           }
          ],
          "mesh3d": [
           {
            "colorbar": {
             "outlinewidth": 0,
             "ticks": ""
            },
            "type": "mesh3d"
           }
          ],
          "parcoords": [
           {
            "line": {
             "colorbar": {
              "outlinewidth": 0,
              "ticks": ""
             }
            },
            "type": "parcoords"
           }
          ],
          "pie": [
           {
            "automargin": true,
            "type": "pie"
           }
          ],
          "scatter": [
           {
            "fillpattern": {
             "fillmode": "overlay",
             "size": 10,
             "solidity": 0.2
            },
            "type": "scatter"
           }
          ],
          "scatter3d": [
           {
            "line": {
             "colorbar": {
              "outlinewidth": 0,
              "ticks": ""
             }
            },
            "marker": {
             "colorbar": {
              "outlinewidth": 0,
              "ticks": ""
             }
            },
            "type": "scatter3d"
           }
          ],
          "scattercarpet": [
           {
            "marker": {
             "colorbar": {
              "outlinewidth": 0,
              "ticks": ""
             }
            },
            "type": "scattercarpet"
           }
          ],
          "scattergeo": [
           {
            "marker": {
             "colorbar": {
              "outlinewidth": 0,
              "ticks": ""
             }
            },
            "type": "scattergeo"
           }
          ],
          "scattergl": [
           {
            "marker": {
             "colorbar": {
              "outlinewidth": 0,
              "ticks": ""
             }
            },
            "type": "scattergl"
           }
          ],
          "scattermap": [
           {
            "marker": {
             "colorbar": {
              "outlinewidth": 0,
              "ticks": ""
             }
            },
            "type": "scattermap"
           }
          ],
          "scattermapbox": [
           {
            "marker": {
             "colorbar": {
              "outlinewidth": 0,
              "ticks": ""
             }
            },
            "type": "scattermapbox"
           }
          ],
          "scatterpolar": [
           {
            "marker": {
             "colorbar": {
              "outlinewidth": 0,
              "ticks": ""
             }
            },
            "type": "scatterpolar"
           }
          ],
          "scatterpolargl": [
           {
            "marker": {
             "colorbar": {
              "outlinewidth": 0,
              "ticks": ""
             }
            },
            "type": "scatterpolargl"
           }
          ],
          "scatterternary": [
           {
            "marker": {
             "colorbar": {
              "outlinewidth": 0,
              "ticks": ""
             }
            },
            "type": "scatterternary"
           }
          ],
          "surface": [
           {
            "colorbar": {
             "outlinewidth": 0,
             "ticks": ""
            },
            "colorscale": [
             [
              0,
              "#0d0887"
             ],
             [
              0.1111111111111111,
              "#46039f"
             ],
             [
              0.2222222222222222,
              "#7201a8"
             ],
             [
              0.3333333333333333,
              "#9c179e"
             ],
             [
              0.4444444444444444,
              "#bd3786"
             ],
             [
              0.5555555555555556,
              "#d8576b"
             ],
             [
              0.6666666666666666,
              "#ed7953"
             ],
             [
              0.7777777777777778,
              "#fb9f3a"
             ],
             [
              0.8888888888888888,
              "#fdca26"
             ],
             [
              1,
              "#f0f921"
             ]
            ],
            "type": "surface"
           }
          ],
          "table": [
           {
            "cells": {
             "fill": {
              "color": "#EBF0F8"
             },
             "line": {
              "color": "white"
             }
            },
            "header": {
             "fill": {
              "color": "#C8D4E3"
             },
             "line": {
              "color": "white"
             }
            },
            "type": "table"
           }
          ]
         },
         "layout": {
          "annotationdefaults": {
           "arrowcolor": "#2a3f5f",
           "arrowhead": 0,
           "arrowwidth": 1
          },
          "autotypenumbers": "strict",
          "coloraxis": {
           "colorbar": {
            "outlinewidth": 0,
            "ticks": ""
           }
          },
          "colorscale": {
           "diverging": [
            [
             0,
             "#8e0152"
            ],
            [
             0.1,
             "#c51b7d"
            ],
            [
             0.2,
             "#de77ae"
            ],
            [
             0.3,
             "#f1b6da"
            ],
            [
             0.4,
             "#fde0ef"
            ],
            [
             0.5,
             "#f7f7f7"
            ],
            [
             0.6,
             "#e6f5d0"
            ],
            [
             0.7,
             "#b8e186"
            ],
            [
             0.8,
             "#7fbc41"
            ],
            [
             0.9,
             "#4d9221"
            ],
            [
             1,
             "#276419"
            ]
           ],
           "sequential": [
            [
             0,
             "#0d0887"
            ],
            [
             0.1111111111111111,
             "#46039f"
            ],
            [
             0.2222222222222222,
             "#7201a8"
            ],
            [
             0.3333333333333333,
             "#9c179e"
            ],
            [
             0.4444444444444444,
             "#bd3786"
            ],
            [
             0.5555555555555556,
             "#d8576b"
            ],
            [
             0.6666666666666666,
             "#ed7953"
            ],
            [
             0.7777777777777778,
             "#fb9f3a"
            ],
            [
             0.8888888888888888,
             "#fdca26"
            ],
            [
             1,
             "#f0f921"
            ]
           ],
           "sequentialminus": [
            [
             0,
             "#0d0887"
            ],
            [
             0.1111111111111111,
             "#46039f"
            ],
            [
             0.2222222222222222,
             "#7201a8"
            ],
            [
             0.3333333333333333,
             "#9c179e"
            ],
            [
             0.4444444444444444,
             "#bd3786"
            ],
            [
             0.5555555555555556,
             "#d8576b"
            ],
            [
             0.6666666666666666,
             "#ed7953"
            ],
            [
             0.7777777777777778,
             "#fb9f3a"
            ],
            [
             0.8888888888888888,
             "#fdca26"
            ],
            [
             1,
             "#f0f921"
            ]
           ]
          },
          "colorway": [
           "#636efa",
           "#EF553B",
           "#00cc96",
           "#ab63fa",
           "#FFA15A",
           "#19d3f3",
           "#FF6692",
           "#B6E880",
           "#FF97FF",
           "#FECB52"
          ],
          "font": {
           "color": "#2a3f5f"
          },
          "geo": {
           "bgcolor": "white",
           "lakecolor": "white",
           "landcolor": "#E5ECF6",
           "showlakes": true,
           "showland": true,
           "subunitcolor": "white"
          },
          "hoverlabel": {
           "align": "left"
          },
          "hovermode": "closest",
          "mapbox": {
           "style": "light"
          },
          "paper_bgcolor": "white",
          "plot_bgcolor": "#E5ECF6",
          "polar": {
           "angularaxis": {
            "gridcolor": "white",
            "linecolor": "white",
            "ticks": ""
           },
           "bgcolor": "#E5ECF6",
           "radialaxis": {
            "gridcolor": "white",
            "linecolor": "white",
            "ticks": ""
           }
          },
          "scene": {
           "xaxis": {
            "backgroundcolor": "#E5ECF6",
            "gridcolor": "white",
            "gridwidth": 2,
            "linecolor": "white",
            "showbackground": true,
            "ticks": "",
            "zerolinecolor": "white"
           },
           "yaxis": {
            "backgroundcolor": "#E5ECF6",
            "gridcolor": "white",
            "gridwidth": 2,
            "linecolor": "white",
            "showbackground": true,
            "ticks": "",
            "zerolinecolor": "white"
           },
           "zaxis": {
            "backgroundcolor": "#E5ECF6",
            "gridcolor": "white",
            "gridwidth": 2,
            "linecolor": "white",
            "showbackground": true,
            "ticks": "",
            "zerolinecolor": "white"
           }
          },
          "shapedefaults": {
           "line": {
            "color": "#2a3f5f"
           }
          },
          "ternary": {
           "aaxis": {
            "gridcolor": "white",
            "linecolor": "white",
            "ticks": ""
           },
           "baxis": {
            "gridcolor": "white",
            "linecolor": "white",
            "ticks": ""
           },
           "bgcolor": "#E5ECF6",
           "caxis": {
            "gridcolor": "white",
            "linecolor": "white",
            "ticks": ""
           }
          },
          "title": {
           "x": 0.05
          },
          "xaxis": {
           "automargin": true,
           "gridcolor": "white",
           "linecolor": "white",
           "ticks": "",
           "title": {
            "standoff": 15
           },
           "zerolinecolor": "white",
           "zerolinewidth": 2
          },
          "yaxis": {
           "automargin": true,
           "gridcolor": "white",
           "linecolor": "white",
           "ticks": "",
           "title": {
            "standoff": 15
           },
           "zerolinecolor": "white",
           "zerolinewidth": 2
          }
         }
        },
        "title": {
         "text": "Top 3 Marcas con mas Unidades Vendidas de cada Mes"
        },
        "xaxis": {
         "anchor": "y",
         "domain": [
          0,
          1
         ],
         "title": {
          "text": "Mes"
         }
        },
        "yaxis": {
         "anchor": "x",
         "domain": [
          0,
          1
         ],
         "title": {
          "text": "Cantidad"
         }
        }
       }
      },
      "image/png": "[encoded data removed]"
     },
     "metadata": {},
     "output_type": "display_data"
    }
   ],
   "source": [
    "fig = px.bar(dfTop3MarcasMesUnidades, x='Mes', y='Cantidad', color='Marca', title=\"Top 3 Marcas con mas Unidades Vendidas de cada Mes\",text='Cantidad',height=800)\n",
    "fig.update_layout(barmode='stack')\n",
    "fig.show()"
   ]
  }
 ],
 "metadata": {
  "kernelspec": {
   "display_name": "Python 3 (ipykernel)",
   "language": "python",
   "name": "python3"
  },
  "language_info": {
   "codemirror_mode": {
    "name": "ipython",
    "version": 3
   },
   "file_extension": ".py",
   "mimetype": "text/x-python",
   "name": "python",
   "nbconvert_exporter": "python",
   "pygments_lexer": "ipython3",
   "version": "3.9.5"
  }
 },
 "nbformat": 4,
 "nbformat_minor": 5
}
