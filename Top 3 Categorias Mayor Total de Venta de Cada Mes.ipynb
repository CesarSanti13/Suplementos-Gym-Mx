{
 "cells": [
  {
   "cell_type": "code",
   "execution_count": 3,
   "id": "29c42d1d-d9f4-48c5-8473-3743443f1af5",
   "metadata": {},
   "outputs": [
    {
     "name": "stderr",
     "output_type": "stream",
     "text": [
      "C:\\Users\\CESAR\\AppData\\Local\\Temp\\ipykernel_21612\\4202401369.py:14: UserWarning:\n",
      "\n",
      "Parsing dates in %d/%m/%Y %H:%M:%S format when dayfirst=False (the default) was specified. Pass `dayfirst=True` or specify a format to silence this warning.\n",
      "\n"
     ]
    },
    {
     "data": {
      "text/html": [
       "<div>\n",
       "<style scoped>\n",
       "    .dataframe tbody tr th:only-of-type {\n",
       "        vertical-align: middle;\n",
       "    }\n",
       "\n",
       "    .dataframe tbody tr th {\n",
       "        vertical-align: top;\n",
       "    }\n",
       "\n",
       "    .dataframe thead th {\n",
       "        text-align: right;\n",
       "    }\n",
       "</style>\n",
       "<table border=\"1\" class=\"dataframe\">\n",
       "  <thead>\n",
       "    <tr style=\"text-align: right;\">\n",
       "      <th></th>\n",
       "      <th>Año</th>\n",
       "      <th>Mes</th>\n",
       "      <th>Categoria</th>\n",
       "      <th>Cantidad</th>\n",
       "      <th>Total</th>\n",
       "      <th>Margen</th>\n",
       "    </tr>\n",
       "  </thead>\n",
       "  <tbody>\n",
       "    <tr>\n",
       "      <th>0</th>\n",
       "      <td>2025</td>\n",
       "      <td>3</td>\n",
       "      <td>Ashwagandha</td>\n",
       "      <td>59</td>\n",
       "      <td>14614.23</td>\n",
       "      <td>4714.23</td>\n",
       "    </tr>\n",
       "    <tr>\n",
       "      <th>1</th>\n",
       "      <td>2025</td>\n",
       "      <td>3</td>\n",
       "      <td>Precursores de Testosterona</td>\n",
       "      <td>26</td>\n",
       "      <td>6380.00</td>\n",
       "      <td>1512.00</td>\n",
       "    </tr>\n",
       "    <tr>\n",
       "      <th>2</th>\n",
       "      <td>2025</td>\n",
       "      <td>3</td>\n",
       "      <td>Electrolitos</td>\n",
       "      <td>13</td>\n",
       "      <td>5211.03</td>\n",
       "      <td>1641.03</td>\n",
       "    </tr>\n",
       "    <tr>\n",
       "      <th>3</th>\n",
       "      <td>2025</td>\n",
       "      <td>4</td>\n",
       "      <td>Ashwagandha</td>\n",
       "      <td>96</td>\n",
       "      <td>21060.00</td>\n",
       "      <td>9060.00</td>\n",
       "    </tr>\n",
       "    <tr>\n",
       "      <th>4</th>\n",
       "      <td>2025</td>\n",
       "      <td>4</td>\n",
       "      <td>Cafeina Anhidra</td>\n",
       "      <td>19</td>\n",
       "      <td>7655.00</td>\n",
       "      <td>1900.00</td>\n",
       "    </tr>\n",
       "    <tr>\n",
       "      <th>5</th>\n",
       "      <td>2025</td>\n",
       "      <td>4</td>\n",
       "      <td>BCAA</td>\n",
       "      <td>12</td>\n",
       "      <td>5825.00</td>\n",
       "      <td>1535.00</td>\n",
       "    </tr>\n",
       "    <tr>\n",
       "      <th>6</th>\n",
       "      <td>2025</td>\n",
       "      <td>5</td>\n",
       "      <td>Ashwagandha</td>\n",
       "      <td>81</td>\n",
       "      <td>19006.84</td>\n",
       "      <td>7306.84</td>\n",
       "    </tr>\n",
       "    <tr>\n",
       "      <th>7</th>\n",
       "      <td>2025</td>\n",
       "      <td>5</td>\n",
       "      <td>Colageno</td>\n",
       "      <td>16</td>\n",
       "      <td>14595.00</td>\n",
       "      <td>2240.00</td>\n",
       "    </tr>\n",
       "    <tr>\n",
       "      <th>8</th>\n",
       "      <td>2025</td>\n",
       "      <td>5</td>\n",
       "      <td>HMB</td>\n",
       "      <td>15</td>\n",
       "      <td>6200.00</td>\n",
       "      <td>1905.00</td>\n",
       "    </tr>\n",
       "    <tr>\n",
       "      <th>9</th>\n",
       "      <td>2025</td>\n",
       "      <td>6</td>\n",
       "      <td>Ashwagandha</td>\n",
       "      <td>25</td>\n",
       "      <td>8420.00</td>\n",
       "      <td>4455.00</td>\n",
       "    </tr>\n",
       "    <tr>\n",
       "      <th>10</th>\n",
       "      <td>2025</td>\n",
       "      <td>6</td>\n",
       "      <td>Cafeina Anhidra</td>\n",
       "      <td>20</td>\n",
       "      <td>7325.00</td>\n",
       "      <td>1510.00</td>\n",
       "    </tr>\n",
       "    <tr>\n",
       "      <th>11</th>\n",
       "      <td>2025</td>\n",
       "      <td>6</td>\n",
       "      <td>BCAA</td>\n",
       "      <td>10</td>\n",
       "      <td>5435.00</td>\n",
       "      <td>1000.00</td>\n",
       "    </tr>\n",
       "    <tr>\n",
       "      <th>12</th>\n",
       "      <td>2025</td>\n",
       "      <td>7</td>\n",
       "      <td>Ashwagandha</td>\n",
       "      <td>40</td>\n",
       "      <td>14348.77</td>\n",
       "      <td>7753.77</td>\n",
       "    </tr>\n",
       "    <tr>\n",
       "      <th>13</th>\n",
       "      <td>2025</td>\n",
       "      <td>7</td>\n",
       "      <td>Oxido Nitrico</td>\n",
       "      <td>13</td>\n",
       "      <td>4115.70</td>\n",
       "      <td>980.70</td>\n",
       "    </tr>\n",
       "    <tr>\n",
       "      <th>14</th>\n",
       "      <td>2025</td>\n",
       "      <td>7</td>\n",
       "      <td>Electrolitos</td>\n",
       "      <td>10</td>\n",
       "      <td>3480.70</td>\n",
       "      <td>1110.70</td>\n",
       "    </tr>\n",
       "    <tr>\n",
       "      <th>15</th>\n",
       "      <td>2025</td>\n",
       "      <td>8</td>\n",
       "      <td>Ashwagandha</td>\n",
       "      <td>96</td>\n",
       "      <td>46136.19</td>\n",
       "      <td>23231.19</td>\n",
       "    </tr>\n",
       "    <tr>\n",
       "      <th>16</th>\n",
       "      <td>2025</td>\n",
       "      <td>8</td>\n",
       "      <td>Cafeina Anhidra</td>\n",
       "      <td>19</td>\n",
       "      <td>9120.00</td>\n",
       "      <td>1825.00</td>\n",
       "    </tr>\n",
       "    <tr>\n",
       "      <th>17</th>\n",
       "      <td>2025</td>\n",
       "      <td>8</td>\n",
       "      <td>BCAA</td>\n",
       "      <td>9</td>\n",
       "      <td>7110.00</td>\n",
       "      <td>1130.00</td>\n",
       "    </tr>\n",
       "  </tbody>\n",
       "</table>\n",
       "</div>"
      ],
      "text/plain": [
       "     Año  Mes                    Categoria  Cantidad     Total    Margen\n",
       "0   2025    3                  Ashwagandha        59  14614.23   4714.23\n",
       "1   2025    3  Precursores de Testosterona        26   6380.00   1512.00\n",
       "2   2025    3                 Electrolitos        13   5211.03   1641.03\n",
       "3   2025    4                  Ashwagandha        96  21060.00   9060.00\n",
       "4   2025    4              Cafeina Anhidra        19   7655.00   1900.00\n",
       "5   2025    4                         BCAA        12   5825.00   1535.00\n",
       "6   2025    5                  Ashwagandha        81  19006.84   7306.84\n",
       "7   2025    5                     Colageno        16  14595.00   2240.00\n",
       "8   2025    5                          HMB        15   6200.00   1905.00\n",
       "9   2025    6                  Ashwagandha        25   8420.00   4455.00\n",
       "10  2025    6              Cafeina Anhidra        20   7325.00   1510.00\n",
       "11  2025    6                         BCAA        10   5435.00   1000.00\n",
       "12  2025    7                  Ashwagandha        40  14348.77   7753.77\n",
       "13  2025    7                Oxido Nitrico        13   4115.70    980.70\n",
       "14  2025    7                 Electrolitos        10   3480.70   1110.70\n",
       "15  2025    8                  Ashwagandha        96  46136.19  23231.19\n",
       "16  2025    8              Cafeina Anhidra        19   9120.00   1825.00\n",
       "17  2025    8                         BCAA         9   7110.00   1130.00"
      ]
     },
     "execution_count": 3,
     "metadata": {},
     "output_type": "execute_result"
    }
   ],
   "source": [
    "import pandas as pd\n",
    "import matplotlib.pyplot as plt\n",
    "import plotly.express as px\n",
    "import seaborn as sns\n",
    "\n",
    "#Leemos nuestro dataset que esta en un archivo xlsx que paso el cliente\n",
    "dfVentasComple = pd.read_excel('../Ventas Mar-Ago.xlsx')\n",
    "\n",
    "#hacemos drop de unas columnas que comentaron que no son necesarias agregar en lo mas minimo creando una array de las columnas a eliminar\n",
    "dropColumns = ['SKU','Código de Barras','Lote','Caducidad del Lote','Estado','Entrega','Cajero','Vendedor','Caja','Sucursal','Canal']\n",
    "dfVentasComple = dfVentasComple.drop(columns=dropColumns).reset_index()\n",
    "\n",
    "#Ahora estandarizamos los datos de la fecha de las ventas del cliente pasandolo de un string a un formato de fecha\n",
    "dfVentasComple['Fecha'] = pd.to_datetime(dfVentasComple['Fecha'])\n",
    "\n",
    "#Aplicamos el redondeo a los valores de las columnas dejandolo solo en 2 decimales\n",
    "dfVentasComple['Descuento'] = dfVentasComple['Descuento'].round(2)\n",
    "dfVentasComple['Margen'] = dfVentasComple['Margen'].round(2)\n",
    "dfVentasComple['Total'] = dfVentasComple['Total'].round(2)\n",
    "\n",
    "#Cambiamos el nombre de una columna ya que no se entendia muy bien ya que es precio unitario es decir precio por cada pieza\n",
    "dfVentasComple = dfVentasComple.rename(columns={'Precio Unitario': 'Precio de Venta'})\n",
    "\n",
    "#Igualmente creamos 2 nuevas columnas dentro de nuestro set de datos el cual tendra el mes y año de la fecha de la venta que se realizo esto\n",
    "#para un analisis todavia mas profundo de los datos.\n",
    "dfVentasComple['Mes'] = dfVentasComple['Fecha'].dt.month\n",
    "dfVentasComple['Año'] = dfVentasComple['Fecha'].dt.year\n",
    "\n",
    "#En otro dataframe almacenamos los productos que sean de envio ya que esos no se tomaran para el analisis de las ventas si no como gastos\n",
    "dfEnvios = dfVentasComple[dfVentasComple['Producto'] == 'Envio'].reset_index()\n",
    "\n",
    "#Ahora ya que sacamos los envios en el mismo dataframe solo obtenemos las ventas que no sean envios para su analisis\n",
    "dfVentasComple = dfVentasComple[dfVentasComple['Producto'] != 'Envio'].sort_values(by= 'Fecha', ascending = True).reset_index(drop=True)\n",
    "\n",
    "#Obtenemos un valor que dentro de el set de datos que no estaba, este es el costo unitario por producto es decir lo que le cuesta cada\n",
    "#producto unitariamente ya que el set de datos lo tiene todo junto\n",
    "dfVentasComple['Costo Unitario'] = dfVentasComple['Costo'] / dfVentasComple['Cantidad']\n",
    "\n",
    "#Reordenamos todo nuestro DF principal de las ventas para su mejor manipulacion y visualizacion\n",
    "dfVentasComple = dfVentasComple[[\"index\", \"Número de Venta\", \"Fecha\", \"Mes\", \"Año\", \"Producto\", \"Categoria\", \"Marca\",\n",
    "         \"Costo Unitario\", \"Cantidad\", \"Costo\", \"Subtotal\", \"Descuento\",\n",
    "         \"Total\", \"Margen\", \"Cliente\"]]\n",
    "\n",
    "#Obtenemos un nuevo dataframe a peticion del cliente quitando las categorias suplementos (ya que estos son genericos y no les interesa saber su analisis)\n",
    "#son propios de maquila solo interes suplementacion Americana (de importacion)\n",
    "#este nuevo dataframe agrupado por año, mes y la CATEGORIA, sumando los valores de la cantidad, total y margen de cada una de las categoria diferentes del DF\n",
    "#ordenado por la categoria y el mes de venta de forma ascendente cada una\n",
    "dfVentasCategoriaMensual = dfVentasComple[dfVentasComple['Categoria'] != 'Suplementos']\n",
    "dfVentasCategoriaMensual = (dfVentasCategoriaMensual.groupby(['Año','Mes','Categoria'])[['Cantidad','Total','Margen']].sum()\n",
    "    .sort_values(by= ['Categoria','Mes'], ascending = [True,True])\n",
    "    .reset_index())\n",
    "\n",
    "#De nuestro DF de ventas por categoria mensuales, lo ordenamos por año de menor a mayor, mes de mayor a menor y de Margen de mayor a menor, posteriormente\n",
    "#agrupandolo por año y mes para poder obtener los primeros 3 registros es decir apoyados por el filtro las primeras 3 CATEGORIAS con mayor TOTAL de\n",
    "#cada uno de los meses\n",
    "dfTop3CategoriasVentas = (dfVentasCategoriaMensual.sort_values([\"Año\",\"Mes\",\"Total\"], ascending=[True,True,False])\n",
    "    .groupby([\"Año\",\"Mes\"]).head(3).reset_index(drop=True))\n",
    "\n",
    "#Normalizamos a solo tener 2 decimales en el margen\n",
    "dfTop3CategoriasVentas['Total'] = dfTop3CategoriasVentas['Total'].round(2)\n",
    "dfTop3CategoriasVentas"
   ]
  },
  {
   "cell_type": "code",
   "execution_count": 4,
   "id": "f4111df4-1602-49f4-bd37-e9393a85dcde",
   "metadata": {},
   "outputs": [
    {
     "data": {
      "application/vnd.plotly.v1+json": {
       "config": {
        "plotlyServerURL": "https://plot.ly"
       },
       "data": [
        {
         "hovertemplate": "Categoria=Ashwagandha<br>Mes=%{x}<br>Total=%{text}<extra></extra>",
         "legendgroup": "Ashwagandha",
         "marker": {
          "color": "#636efa",
          "pattern": {
           "shape": ""
          }
         },
         "name": "Ashwagandha",
         "orientation": "v",
         "showlegend": true,
         "text": {
          "bdata": "CtejcB2LzEAAAAAAAJHUQClcj8K1j9JAAAAAAABywED2KFyPYgbMQEjhehQGh+ZA",
          "dtype": "f8"
         },
         "textposition": "auto",
         "type": "bar",
         "x": {
          "bdata": "AwAAAAQAAAAFAAAABgAAAAcAAAAIAAAA",
          "dtype": "i4"
         },
         "xaxis": "x",
         "y": {
          "bdata": "CtejcB2LzEAAAAAAAJHUQClcj8K1j9JAAAAAAABywED2KFyPYgbMQEjhehQGh+ZA",
          "dtype": "f8"
         },
         "yaxis": "y"
        },
        {
         "hovertemplate": "Categoria=Precursores de Testosterona<br>Mes=%{x}<br>Total=%{text}<extra></extra>",
         "legendgroup": "Precursores de Testosterona",
         "marker": {
          "color": "#EF553B",
          "pattern": {
           "shape": ""
          }
         },
         "name": "Precursores de Testosterona",
         "orientation": "v",
         "showlegend": true,
         "text": {
          "bdata": "AAAAAADsuEA=",
          "dtype": "f8"
         },
         "textposition": "auto",
         "type": "bar",
         "x": {
          "bdata": "AwAAAA==",
          "dtype": "i4"
         },
         "xaxis": "x",
         "y": {
          "bdata": "AAAAAADsuEA=",
          "dtype": "f8"
         },
         "yaxis": "y"
        },
        {
         "hovertemplate": "Categoria=Electrolitos<br>Mes=%{x}<br>Total=%{text}<extra></extra>",
         "legendgroup": "Electrolitos",
         "marker": {
          "color": "#00cc96",
          "pattern": {
           "shape": ""
          }
         },
         "name": "Electrolitos",
         "orientation": "v",
         "showlegend": true,
         "text": {
          "bdata": "4XoUrgdbtEBmZmZmZjGrQA==",
          "dtype": "f8"
         },
         "textposition": "auto",
         "type": "bar",
         "x": {
          "bdata": "AwAAAAcAAAA=",
          "dtype": "i4"
         },
         "xaxis": "x",
         "y": {
          "bdata": "4XoUrgdbtEBmZmZmZjGrQA==",
          "dtype": "f8"
         },
         "yaxis": "y"
        },
        {
         "hovertemplate": "Categoria=Cafeina Anhidra<br>Mes=%{x}<br>Total=%{text}<extra></extra>",
         "legendgroup": "Cafeina Anhidra",
         "marker": {
          "color": "#ab63fa",
          "pattern": {
           "shape": ""
          }
         },
         "name": "Cafeina Anhidra",
         "orientation": "v",
         "showlegend": true,
         "text": {
          "bdata": "AAAAAADnvUAAAAAAAJ28QAAAAAAA0MFA",
          "dtype": "f8"
         },
         "textposition": "auto",
         "type": "bar",
         "x": {
          "bdata": "BAAAAAYAAAAIAAAA",
          "dtype": "i4"
         },
         "xaxis": "x",
         "y": {
          "bdata": "AAAAAADnvUAAAAAAAJ28QAAAAAAA0MFA",
          "dtype": "f8"
         },
         "yaxis": "y"
        },
        {
         "hovertemplate": "Categoria=BCAA<br>Mes=%{x}<br>Total=%{text}<extra></extra>",
         "legendgroup": "BCAA",
         "marker": {
          "color": "#FFA15A",
          "pattern": {
           "shape": ""
          }
         },
         "name": "BCAA",
         "orientation": "v",
         "showlegend": true,
         "text": {
          "bdata": "AAAAAADBtkAAAAAAADu1QAAAAAAAxrtA",
          "dtype": "f8"
         },
         "textposition": "auto",
         "type": "bar",
         "x": {
          "bdata": "BAAAAAYAAAAIAAAA",
          "dtype": "i4"
         },
         "xaxis": "x",
         "y": {
          "bdata": "AAAAAADBtkAAAAAAADu1QAAAAAAAxrtA",
          "dtype": "f8"
         },
         "yaxis": "y"
        },
        {
         "hovertemplate": "Categoria=Colageno<br>Mes=%{x}<br>Total=%{text}<extra></extra>",
         "legendgroup": "Colageno",
         "marker": {
          "color": "#19d3f3",
          "pattern": {
           "shape": ""
          }
         },
         "name": "Colageno",
         "orientation": "v",
         "showlegend": true,
         "text": {
          "bdata": "AAAAAICBzEA=",
          "dtype": "f8"
         },
         "textposition": "auto",
         "type": "bar",
         "x": {
          "bdata": "BQAAAA==",
          "dtype": "i4"
         },
         "xaxis": "x",
         "y": {
          "bdata": "AAAAAICBzEA=",
          "dtype": "f8"
         },
         "yaxis": "y"
        },
        {
         "hovertemplate": "Categoria=HMB<br>Mes=%{x}<br>Total=%{text}<extra></extra>",
         "legendgroup": "HMB",
         "marker": {
          "color": "#FF6692",
          "pattern": {
           "shape": ""
          }
         },
         "name": "HMB",
         "orientation": "v",
         "showlegend": true,
         "text": {
          "bdata": "AAAAAAA4uEA=",
          "dtype": "f8"
         },
         "textposition": "auto",
         "type": "bar",
         "x": {
          "bdata": "BQAAAA==",
          "dtype": "i4"
         },
         "xaxis": "x",
         "y": {
          "bdata": "AAAAAAA4uEA=",
          "dtype": "f8"
         },
         "yaxis": "y"
        },
        {
         "hovertemplate": "Categoria=Oxido Nitrico<br>Mes=%{x}<br>Total=%{text}<extra></extra>",
         "legendgroup": "Oxido Nitrico",
         "marker": {
          "color": "#B6E880",
          "pattern": {
           "shape": ""
          }
         },
         "name": "Oxido Nitrico",
         "orientation": "v",
         "showlegend": true,
         "text": {
          "bdata": "MzMzM7MTsEA=",
          "dtype": "f8"
         },
         "textposition": "auto",
         "type": "bar",
         "x": {
          "bdata": "BwAAAA==",
          "dtype": "i4"
         },
         "xaxis": "x",
         "y": {
          "bdata": "MzMzM7MTsEA=",
          "dtype": "f8"
         },
         "yaxis": "y"
        }
       ],
       "layout": {
        "barmode": "stack",
        "height": 700,
        "legend": {
         "title": {
          "text": "Categoria"
         },
         "tracegroupgap": 0
        },
        "template": {
         "data": {
          "bar": [
           {
            "error_x": {
             "color": "#2a3f5f"
            },
            "error_y": {
             "color": "#2a3f5f"
            },
            "marker": {
             "line": {
              "color": "#E5ECF6",
              "width": 0.5
             },
             "pattern": {
              "fillmode": "overlay",
              "size": 10,
              "solidity": 0.2
             }
            },
            "type": "bar"
           }
          ],
          "barpolar": [
           {
            "marker": {
             "line": {
              "color": "#E5ECF6",
              "width": 0.5
             },
             "pattern": {
              "fillmode": "overlay",
              "size": 10,
              "solidity": 0.2
             }
            },
            "type": "barpolar"
           }
          ],
          "carpet": [
           {
            "aaxis": {
             "endlinecolor": "#2a3f5f",
             "gridcolor": "white",
             "linecolor": "white",
             "minorgridcolor": "white",
             "startlinecolor": "#2a3f5f"
            },
            "baxis": {
             "endlinecolor": "#2a3f5f",
             "gridcolor": "white",
             "linecolor": "white",
             "minorgridcolor": "white",
             "startlinecolor": "#2a3f5f"
            },
            "type": "carpet"
           }
          ],
          "choropleth": [
           {
            "colorbar": {
             "outlinewidth": 0,
             "ticks": ""
            },
            "type": "choropleth"
           }
          ],
          "contour": [
           {
            "colorbar": {
             "outlinewidth": 0,
             "ticks": ""
            },
            "colorscale": [
             [
              0,
              "#0d0887"
             ],
             [
              0.1111111111111111,
              "#46039f"
             ],
             [
              0.2222222222222222,
              "#7201a8"
             ],
             [
              0.3333333333333333,
              "#9c179e"
             ],
             [
              0.4444444444444444,
              "#bd3786"
             ],
             [
              0.5555555555555556,
              "#d8576b"
             ],
             [
              0.6666666666666666,
              "#ed7953"
             ],
             [
              0.7777777777777778,
              "#fb9f3a"
             ],
             [
              0.8888888888888888,
              "#fdca26"
             ],
             [
              1,
              "#f0f921"
             ]
            ],
            "type": "contour"
           }
          ],
          "contourcarpet": [
           {
            "colorbar": {
             "outlinewidth": 0,
             "ticks": ""
            },
            "type": "contourcarpet"
           }
          ],
          "heatmap": [
           {
            "colorbar": {
             "outlinewidth": 0,
             "ticks": ""
            },
            "colorscale": [
             [
              0,
              "#0d0887"
             ],
             [
              0.1111111111111111,
              "#46039f"
             ],
             [
              0.2222222222222222,
              "#7201a8"
             ],
             [
              0.3333333333333333,
              "#9c179e"
             ],
             [
              0.4444444444444444,
              "#bd3786"
             ],
             [
              0.5555555555555556,
              "#d8576b"
             ],
             [
              0.6666666666666666,
              "#ed7953"
             ],
             [
              0.7777777777777778,
              "#fb9f3a"
             ],
             [
              0.8888888888888888,
              "#fdca26"
             ],
             [
              1,
              "#f0f921"
             ]
            ],
            "type": "heatmap"
           }
          ],
          "histogram": [
           {
            "marker": {
             "pattern": {
              "fillmode": "overlay",
              "size": 10,
              "solidity": 0.2
             }
            },
            "type": "histogram"
           }
          ],
          "histogram2d": [
           {
            "colorbar": {
             "outlinewidth": 0,
             "ticks": ""
            },
            "colorscale": [
             [
              0,
              "#0d0887"
             ],
             [
              0.1111111111111111,
              "#46039f"
             ],
             [
              0.2222222222222222,
              "#7201a8"
             ],
             [
              0.3333333333333333,
              "#9c179e"
             ],
             [
              0.4444444444444444,
              "#bd3786"
             ],
             [
              0.5555555555555556,
              "#d8576b"
             ],
             [
              0.6666666666666666,
              "#ed7953"
             ],
             [
              0.7777777777777778,
              "#fb9f3a"
             ],
             [
              0.8888888888888888,
              "#fdca26"
             ],
             [
              1,
              "#f0f921"
             ]
            ],
            "type": "histogram2d"
           }
          ],
          "histogram2dcontour": [
           {
            "colorbar": {
             "outlinewidth": 0,
             "ticks": ""
            },
            "colorscale": [
             [
              0,
              "#0d0887"
             ],
             [
              0.1111111111111111,
              "#46039f"
             ],
             [
              0.2222222222222222,
              "#7201a8"
             ],
             [
              0.3333333333333333,
              "#9c179e"
             ],
             [
              0.4444444444444444,
              "#bd3786"
             ],
             [
              0.5555555555555556,
              "#d8576b"
             ],
             [
              0.6666666666666666,
              "#ed7953"
             ],
             [
              0.7777777777777778,
              "#fb9f3a"
             ],
             [
              0.8888888888888888,
              "#fdca26"
             ],
             [
              1,
              "#f0f921"
             ]
            ],
            "type": "histogram2dcontour"
           }
          ],
          "mesh3d": [
           {
            "colorbar": {
             "outlinewidth": 0,
             "ticks": ""
            },
            "type": "mesh3d"
           }
          ],
          "parcoords": [
           {
            "line": {
             "colorbar": {
              "outlinewidth": 0,
              "ticks": ""
             }
            },
            "type": "parcoords"
           }
          ],
          "pie": [
           {
            "automargin": true,
            "type": "pie"
           }
          ],
          "scatter": [
           {
            "fillpattern": {
             "fillmode": "overlay",
             "size": 10,
             "solidity": 0.2
            },
            "type": "scatter"
           }
          ],
          "scatter3d": [
           {
            "line": {
             "colorbar": {
              "outlinewidth": 0,
              "ticks": ""
             }
            },
            "marker": {
             "colorbar": {
              "outlinewidth": 0,
              "ticks": ""
             }
            },
            "type": "scatter3d"
           }
          ],
          "scattercarpet": [
           {
            "marker": {
             "colorbar": {
              "outlinewidth": 0,
              "ticks": ""
             }
            },
            "type": "scattercarpet"
           }
          ],
          "scattergeo": [
           {
            "marker": {
             "colorbar": {
              "outlinewidth": 0,
              "ticks": ""
             }
            },
            "type": "scattergeo"
           }
          ],
          "scattergl": [
           {
            "marker": {
             "colorbar": {
              "outlinewidth": 0,
              "ticks": ""
             }
            },
            "type": "scattergl"
           }
          ],
          "scattermap": [
           {
            "marker": {
             "colorbar": {
              "outlinewidth": 0,
              "ticks": ""
             }
            },
            "type": "scattermap"
           }
          ],
          "scattermapbox": [
           {
            "marker": {
             "colorbar": {
              "outlinewidth": 0,
              "ticks": ""
             }
            },
            "type": "scattermapbox"
           }
          ],
          "scatterpolar": [
           {
            "marker": {
             "colorbar": {
              "outlinewidth": 0,
              "ticks": ""
             }
            },
            "type": "scatterpolar"
           }
          ],
          "scatterpolargl": [
           {
            "marker": {
             "colorbar": {
              "outlinewidth": 0,
              "ticks": ""
             }
            },
            "type": "scatterpolargl"
           }
          ],
          "scatterternary": [
           {
            "marker": {
             "colorbar": {
              "outlinewidth": 0,
              "ticks": ""
             }
            },
            "type": "scatterternary"
           }
          ],
          "surface": [
           {
            "colorbar": {
             "outlinewidth": 0,
             "ticks": ""
            },
            "colorscale": [
             [
              0,
              "#0d0887"
             ],
             [
              0.1111111111111111,
              "#46039f"
             ],
             [
              0.2222222222222222,
              "#7201a8"
             ],
             [
              0.3333333333333333,
              "#9c179e"
             ],
             [
              0.4444444444444444,
              "#bd3786"
             ],
             [
              0.5555555555555556,
              "#d8576b"
             ],
             [
              0.6666666666666666,
              "#ed7953"
             ],
             [
              0.7777777777777778,
              "#fb9f3a"
             ],
             [
              0.8888888888888888,
              "#fdca26"
             ],
             [
              1,
              "#f0f921"
             ]
            ],
            "type": "surface"
           }
          ],
          "table": [
           {
            "cells": {
             "fill": {
              "color": "#EBF0F8"
             },
             "line": {
              "color": "white"
             }
            },
            "header": {
             "fill": {
              "color": "#C8D4E3"
             },
             "line": {
              "color": "white"
             }
            },
            "type": "table"
           }
          ]
         },
         "layout": {
          "annotationdefaults": {
           "arrowcolor": "#2a3f5f",
           "arrowhead": 0,
           "arrowwidth": 1
          },
          "autotypenumbers": "strict",
          "coloraxis": {
           "colorbar": {
            "outlinewidth": 0,
            "ticks": ""
           }
          },
          "colorscale": {
           "diverging": [
            [
             0,
             "#8e0152"
            ],
            [
             0.1,
             "#c51b7d"
            ],
            [
             0.2,
             "#de77ae"
            ],
            [
             0.3,
             "#f1b6da"
            ],
            [
             0.4,
             "#fde0ef"
            ],
            [
             0.5,
             "#f7f7f7"
            ],
            [
             0.6,
             "#e6f5d0"
            ],
            [
             0.7,
             "#b8e186"
            ],
            [
             0.8,
             "#7fbc41"
            ],
            [
             0.9,
             "#4d9221"
            ],
            [
             1,
             "#276419"
            ]
           ],
           "sequential": [
            [
             0,
             "#0d0887"
            ],
            [
             0.1111111111111111,
             "#46039f"
            ],
            [
             0.2222222222222222,
             "#7201a8"
            ],
            [
             0.3333333333333333,
             "#9c179e"
            ],
            [
             0.4444444444444444,
             "#bd3786"
            ],
            [
             0.5555555555555556,
             "#d8576b"
            ],
            [
             0.6666666666666666,
             "#ed7953"
            ],
            [
             0.7777777777777778,
             "#fb9f3a"
            ],
            [
             0.8888888888888888,
             "#fdca26"
            ],
            [
             1,
             "#f0f921"
            ]
           ],
           "sequentialminus": [
            [
             0,
             "#0d0887"
            ],
            [
             0.1111111111111111,
             "#46039f"
            ],
            [
             0.2222222222222222,
             "#7201a8"
            ],
            [
             0.3333333333333333,
             "#9c179e"
            ],
            [
             0.4444444444444444,
             "#bd3786"
            ],
            [
             0.5555555555555556,
             "#d8576b"
            ],
            [
             0.6666666666666666,
             "#ed7953"
            ],
            [
             0.7777777777777778,
             "#fb9f3a"
            ],
            [
             0.8888888888888888,
             "#fdca26"
            ],
            [
             1,
             "#f0f921"
            ]
           ]
          },
          "colorway": [
           "#636efa",
           "#EF553B",
           "#00cc96",
           "#ab63fa",
           "#FFA15A",
           "#19d3f3",
           "#FF6692",
           "#B6E880",
           "#FF97FF",
           "#FECB52"
          ],
          "font": {
           "color": "#2a3f5f"
          },
          "geo": {
           "bgcolor": "white",
           "lakecolor": "white",
           "landcolor": "#E5ECF6",
           "showlakes": true,
           "showland": true,
           "subunitcolor": "white"
          },
          "hoverlabel": {
           "align": "left"
          },
          "hovermode": "closest",
          "mapbox": {
           "style": "light"
          },
          "paper_bgcolor": "white",
          "plot_bgcolor": "#E5ECF6",
          "polar": {
           "angularaxis": {
            "gridcolor": "white",
            "linecolor": "white",
            "ticks": ""
           },
           "bgcolor": "#E5ECF6",
           "radialaxis": {
            "gridcolor": "white",
            "linecolor": "white",
            "ticks": ""
           }
          },
          "scene": {
           "xaxis": {
            "backgroundcolor": "#E5ECF6",
            "gridcolor": "white",
            "gridwidth": 2,
            "linecolor": "white",
            "showbackground": true,
            "ticks": "",
            "zerolinecolor": "white"
           },
           "yaxis": {
            "backgroundcolor": "#E5ECF6",
            "gridcolor": "white",
            "gridwidth": 2,
            "linecolor": "white",
            "showbackground": true,
            "ticks": "",
            "zerolinecolor": "white"
           },
           "zaxis": {
            "backgroundcolor": "#E5ECF6",
            "gridcolor": "white",
            "gridwidth": 2,
            "linecolor": "white",
            "showbackground": true,
            "ticks": "",
            "zerolinecolor": "white"
           }
          },
          "shapedefaults": {
           "line": {
            "color": "#2a3f5f"
           }
          },
          "ternary": {
           "aaxis": {
            "gridcolor": "white",
            "linecolor": "white",
            "ticks": ""
           },
           "baxis": {
            "gridcolor": "white",
            "linecolor": "white",
            "ticks": ""
           },
           "bgcolor": "#E5ECF6",
           "caxis": {
            "gridcolor": "white",
            "linecolor": "white",
            "ticks": ""
           }
          },
          "title": {
           "x": 0.05
          },
          "xaxis": {
           "automargin": true,
           "gridcolor": "white",
           "linecolor": "white",
           "ticks": "",
           "title": {
            "standoff": 15
           },
           "zerolinecolor": "white",
           "zerolinewidth": 2
          },
          "yaxis": {
           "automargin": true,
           "gridcolor": "white",
           "linecolor": "white",
           "ticks": "",
           "title": {
            "standoff": 15
           },
           "zerolinecolor": "white",
           "zerolinewidth": 2
          }
         }
        },
        "title": {
         "text": "Top 3 Categorias Mayor Total de Ventas por Mes"
        },
        "xaxis": {
         "anchor": "y",
         "domain": [
          0,
          1
         ],
         "title": {
          "text": "Mes"
         }
        },
        "yaxis": {
         "anchor": "x",
         "domain": [
          0,
          1
         ],
         "title": {
          "text": "Total"
         }
        }
       }
      },
      "image/png": "[encoded data removed]"
     },
     "metadata": {},
     "output_type": "display_data"
    }
   ],
   "source": [
    "fig = px.bar(dfTop3CategoriasVentas, x='Mes', y='Total', color='Categoria',\n",
    "             title=\"Top 3 Categorias Mayor Total de Ventas por Mes\",text='Total', height=700)\n",
    "fig.update_layout(barmode='stack')\n",
    "fig.show()"
   ]
  }
 ],
 "metadata": {
  "kernelspec": {
   "display_name": "Python 3 (ipykernel)",
   "language": "python",
   "name": "python3"
  },
  "language_info": {
   "codemirror_mode": {
    "name": "ipython",
    "version": 3
   },
   "file_extension": ".py",
   "mimetype": "text/x-python",
   "name": "python",
   "nbconvert_exporter": "python",
   "pygments_lexer": "ipython3",
   "version": "3.9.5"
  }
 },
 "nbformat": 4,
 "nbformat_minor": 5
}
