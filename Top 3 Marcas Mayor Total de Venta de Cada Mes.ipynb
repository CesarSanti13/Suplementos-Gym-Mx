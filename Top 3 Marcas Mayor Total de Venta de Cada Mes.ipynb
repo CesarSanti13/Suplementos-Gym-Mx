{
 "cells": [
  {
   "cell_type": "code",
   "execution_count": 1,
   "id": "29c42d1d-d9f4-48c5-8473-3743443f1af5",
   "metadata": {},
   "outputs": [
    {
     "name": "stderr",
     "output_type": "stream",
     "text": [
      "C:\\Users\\CESAR\\AppData\\Local\\Temp\\ipykernel_27852\\2887587688.py:14: UserWarning: Parsing dates in %d/%m/%Y %H:%M:%S format when dayfirst=False (the default) was specified. Pass `dayfirst=True` or specify a format to silence this warning.\n",
      "  dfVentasComple['Fecha'] = pd.to_datetime(dfVentasComple['Fecha'])\n"
     ]
    }
   ],
   "source": [
    "import pandas as pd\n",
    "import matplotlib.pyplot as plt\n",
    "import plotly.express as px\n",
    "import seaborn as sns\n",
    "\n",
    "#Leemos nuestro dataset que esta en un archivo xlsx que paso el cliente\n",
    "dfVentasComple = pd.read_excel('Ventas Mar-Ago.xlsx')\n",
    "\n",
    "#hacemos drop de unas columnas que comentaron que no son necesarias agregar en lo mas minimo creando una array de las columnas a eliminar\n",
    "dropColumns = ['SKU','Código de Barras','Lote','Caducidad del Lote','Estado','Entrega','Cajero','Vendedor','Caja','Sucursal','Canal']\n",
    "dfVentasComple = dfVentasComple.drop(columns=dropColumns).reset_index()\n",
    "\n",
    "#Ahora estandarizamos los datos de la fecha de las ventas del cliente pasandolo de un string a un formato de fecha\n",
    "dfVentasComple['Fecha'] = pd.to_datetime(dfVentasComple['Fecha'])\n",
    "\n",
    "#Aplicamos el redondeo a los valores de las columnas dejandolo solo en 2 decimales\n",
    "dfVentasComple['Descuento'] = dfVentasComple['Descuento'].round(2)\n",
    "dfVentasComple['Margen'] = dfVentasComple['Margen'].round(2)\n",
    "dfVentasComple['Total'] = dfVentasComple['Total'].round(2)\n",
    "\n",
    "#Cambiamos el nombre de una columna ya que no se entendia muy bien ya que es precio unitario es decir precio por cada pieza\n",
    "dfVentasComple = dfVentasComple.rename(columns={'Precio Unitario': 'Precio de Venta'})\n",
    "\n",
    "#Igualmente creamos 2 nuevas columnas dentro de nuestro set de datos el cual tendra el mes y año de la fecha de la venta que se realizo esto\n",
    "#para un analisis todavia mas profundo de los datos.\n",
    "dfVentasComple['Mes'] = dfVentasComple['Fecha'].dt.month\n",
    "dfVentasComple['Año'] = dfVentasComple['Fecha'].dt.year\n",
    "\n",
    "#En otro dataframe almacenamos los productos que sean de envio ya que esos no se tomaran para el analisis de las ventas si no como gastos\n",
    "dfEnvios = dfVentasComple[dfVentasComple['Producto'] == 'Envio'].reset_index()\n",
    "\n",
    "#Ahora ya que sacamos los envios en el mismo dataframe solo obtenemos las ventas que no sean envios para su analisis\n",
    "dfVentasComple = dfVentasComple[dfVentasComple['Producto'] != 'Envio'].sort_values(by= 'Fecha', ascending = True).reset_index(drop=True)\n",
    "\n",
    "#Obtenemos un valor que dentro de el set de datos que no estaba, este es el costo unitario por producto es decir lo que le cuesta cada\n",
    "#producto unitariamente ya que el set de datos lo tiene todo junto\n",
    "dfVentasComple['Costo Unitario'] = dfVentasComple['Costo'] / dfVentasComple['Cantidad']\n",
    "\n",
    "#Reordenamos todo nuestro DF principal de las ventas para su mejor manipulacion y visualizacion\n",
    "dfVentasComple = dfVentasComple[[\"index\", \"Número de Venta\", \"Fecha\", \"Mes\", \"Año\", \"Producto\", \"Categoria\", \"Marca\",\n",
    "         \"Costo Unitario\", \"Cantidad\", \"Costo\", \"Subtotal\", \"Descuento\",\n",
    "         \"Total\", \"Margen\", \"Cliente\"]]\n",
    "\n",
    "#Obtenemos un nuevo dataframe a peticion del cliente quitando las categorias suplementos (ya que estos son genericos y no les interesa saber su analisis)\n",
    "#son propios de maquila solo interes suplementacion Americana (de importacion)\n",
    "#este nuevo dataframe agrupado por año, mes y la MARCA, sumando los valores de la cantidad, total y margen de cada una de las marcas diferentes del DF\n",
    "#ordenado por la marca y el mes de venta de forma ascendente cada una\n",
    "dfVentasMarcaMensual = dfVentasComple[dfVentasComple['Categoria'] != 'Suplementos']\n",
    "dfVentasMarcaMensual = (dfVentasMarcaMensual.groupby(['Año','Mes','Marca'])[['Cantidad','Total','Margen']].sum()\n",
    "    .sort_values(by= ['Marca','Mes'], ascending = [True,True])\n",
    "    .reset_index())\n",
    "\n",
    "#De nuestro DF de ventas por marca mensuales, lo ordenamos por año de menor a mayor, mes de mayor a menor y de Margen de mayor a menor, posteriormente\n",
    "#agrupandolo por año y mes para poder obtener los primeros 3 registros es decir apoyados por el filtro las primeras 5 MARCAS con mayor MARGEN de\n",
    "#cada uno de los meses\n",
    "dfTop3MarcasVentas = (dfVentasMarcaMensual.sort_values([\"Año\",\"Mes\",\"Total\"], ascending=[True,True,False])\n",
    "    .groupby([\"Año\",\"Mes\"]).head(3).reset_index(drop=True))\n",
    "\n",
    "#Normalizamos a solo tener 2 decimales en el margen\n",
    "dfTop3MarcasVentas['Total'] = dfTop3MarcasVentas['Total'].round(2)"
   ]
  },
  {
   "cell_type": "code",
   "execution_count": 4,
   "id": "f4111df4-1602-49f4-bd37-e9393a85dcde",
   "metadata": {},
   "outputs": [
    {
     "data": {
      "application/vnd.plotly.v1+json": {
       "config": {
        "plotlyServerURL": "https://plot.ly"
       },
       "data": [
        {
         "hovertemplate": "Marca=Activex<br>Mes=%{x}<br>Total=%{text}<extra></extra>",
         "legendgroup": "Activex",
         "marker": {
          "color": "#636efa",
          "pattern": {
           "shape": ""
          }
         },
         "name": "Activex",
         "orientation": "v",
         "showlegend": true,
         "text": {
          "bdata": "16NwPcrIw0A=",
          "dtype": "f8"
         },
         "textposition": "auto",
         "type": "bar",
         "x": {
          "bdata": "AwAAAA==",
          "dtype": "i4"
         },
         "xaxis": "x",
         "y": {
          "bdata": "16NwPcrIw0A=",
          "dtype": "f8"
         },
         "yaxis": "y"
        },
        {
         "hovertemplate": "Marca=Ferring<br>Mes=%{x}<br>Total=%{text}<extra></extra>",
         "legendgroup": "Ferring",
         "marker": {
          "color": "#EF553B",
          "pattern": {
           "shape": ""
          }
         },
         "name": "Ferring",
         "orientation": "v",
         "showlegend": true,
         "text": {
          "bdata": "AAAAAADCwEAAAAAAAJ7LQAAAAAAAbMZA",
          "dtype": "f8"
         },
         "textposition": "auto",
         "type": "bar",
         "x": {
          "bdata": "AwAAAAQAAAAFAAAA",
          "dtype": "i4"
         },
         "xaxis": "x",
         "y": {
          "bdata": "AAAAAADCwEAAAAAAAJ7LQAAAAAAAbMZA",
          "dtype": "f8"
         },
         "yaxis": "y"
        },
        {
         "hovertemplate": "Marca=Rotterdam Pharma<br>Mes=%{x}<br>Total=%{text}<extra></extra>",
         "legendgroup": "Rotterdam Pharma",
         "marker": {
          "color": "#00cc96",
          "pattern": {
           "shape": ""
          }
         },
         "name": "Rotterdam Pharma",
         "orientation": "v",
         "showlegend": true,
         "text": {
          "bdata": "AAAAAACkv0AAAAAAAMvLQAAAAAAA3MRA",
          "dtype": "f8"
         },
         "textposition": "auto",
         "type": "bar",
         "x": {
          "bdata": "AwAAAAUAAAAGAAAA",
          "dtype": "i4"
         },
         "xaxis": "x",
         "y": {
          "bdata": "AAAAAACkv0AAAAAAAMvLQAAAAAAA3MRA",
          "dtype": "f8"
         },
         "yaxis": "y"
        },
        {
         "hovertemplate": "Marca=XT Labs<br>Mes=%{x}<br>Total=%{text}<extra></extra>",
         "legendgroup": "XT Labs",
         "marker": {
          "color": "#ab63fa",
          "pattern": {
           "shape": ""
          }
         },
         "name": "XT Labs",
         "orientation": "v",
         "showlegend": true,
         "text": {
          "bdata": "AAAAAACvxEAAAAAAAEDFQGZmZmZmLr5A",
          "dtype": "f8"
         },
         "textposition": "auto",
         "type": "bar",
         "x": {
          "bdata": "BAAAAAYAAAAHAAAA",
          "dtype": "i4"
         },
         "xaxis": "x",
         "y": {
          "bdata": "AAAAAACvxEAAAAAAAEDFQGZmZmZmLr5A",
          "dtype": "f8"
         },
         "yaxis": "y"
        },
        {
         "hovertemplate": "Marca=Merck<br>Mes=%{x}<br>Total=%{text}<extra></extra>",
         "legendgroup": "Merck",
         "marker": {
          "color": "#FFA15A",
          "pattern": {
           "shape": ""
          }
         },
         "name": "Merck",
         "orientation": "v",
         "showlegend": true,
         "text": {
          "bdata": "AAAAAAA0vEAAAAAAAOLIQA==",
          "dtype": "f8"
         },
         "textposition": "auto",
         "type": "bar",
         "x": {
          "bdata": "BAAAAAgAAAA=",
          "dtype": "i4"
         },
         "xaxis": "x",
         "y": {
          "bdata": "AAAAAAA0vEAAAAAAAOLIQA==",
          "dtype": "f8"
         },
         "yaxis": "y"
        },
        {
         "hovertemplate": "Marca=Thaiger Pharma<br>Mes=%{x}<br>Total=%{text}<extra></extra>",
         "legendgroup": "Thaiger Pharma",
         "marker": {
          "color": "#19d3f3",
          "pattern": {
           "shape": ""
          }
         },
         "name": "Thaiger Pharma",
         "orientation": "v",
         "showlegend": true,
         "text": {
          "bdata": "AAAAAAAcy0A=",
          "dtype": "f8"
         },
         "textposition": "auto",
         "type": "bar",
         "x": {
          "bdata": "BQAAAA==",
          "dtype": "i4"
         },
         "xaxis": "x",
         "y": {
          "bdata": "AAAAAAAcy0A=",
          "dtype": "f8"
         },
         "yaxis": "y"
        },
        {
         "hovertemplate": "Marca=Eminence Labs<br>Mes=%{x}<br>Total=%{text}<extra></extra>",
         "legendgroup": "Eminence Labs",
         "marker": {
          "color": "#FF6692",
          "pattern": {
           "shape": ""
          }
         },
         "name": "Eminence Labs",
         "orientation": "v",
         "showlegend": true,
         "text": {
          "bdata": "AAAAAABgs0AAAAAAAGvSQA==",
          "dtype": "f8"
         },
         "textposition": "auto",
         "type": "bar",
         "x": {
          "bdata": "BgAAAAgAAAA=",
          "dtype": "i4"
         },
         "xaxis": "x",
         "y": {
          "bdata": "AAAAAABgs0AAAAAAAGvSQA==",
          "dtype": "f8"
         },
         "yaxis": "y"
        },
        {
         "hovertemplate": "Marca=Genli<br>Mes=%{x}<br>Total=%{text}<extra></extra>",
         "legendgroup": "Genli",
         "marker": {
          "color": "#B6E880",
          "pattern": {
           "shape": ""
          }
         },
         "name": "Genli",
         "orientation": "v",
         "showlegend": true,
         "text": {
          "bdata": "w/UoXG9dxUAAAAAAAG/TQA==",
          "dtype": "f8"
         },
         "textposition": "auto",
         "type": "bar",
         "x": {
          "bdata": "BwAAAAgAAAA=",
          "dtype": "i4"
         },
         "xaxis": "x",
         "y": {
          "bdata": "w/UoXG9dxUAAAAAAAG/TQA==",
          "dtype": "f8"
         },
         "yaxis": "y"
        },
        {
         "hovertemplate": "Marca=Alpha Labs<br>Mes=%{x}<br>Total=%{text}<extra></extra>",
         "legendgroup": "Alpha Labs",
         "marker": {
          "color": "#FF97FF",
          "pattern": {
           "shape": ""
          }
         },
         "name": "Alpha Labs",
         "orientation": "v",
         "showlegend": true,
         "text": {
          "bdata": "AAAAAACws0A=",
          "dtype": "f8"
         },
         "textposition": "auto",
         "type": "bar",
         "x": {
          "bdata": "BwAAAA==",
          "dtype": "i4"
         },
         "xaxis": "x",
         "y": {
          "bdata": "AAAAAACws0A=",
          "dtype": "f8"
         },
         "yaxis": "y"
        }
       ],
       "layout": {
        "barmode": "stack",
        "height": 700,
        "legend": {
         "title": {
          "text": "Marca"
         },
         "tracegroupgap": 0
        },
        "template": {
         "data": {
          "bar": [
           {
            "error_x": {
             "color": "#2a3f5f"
            },
            "error_y": {
             "color": "#2a3f5f"
            },
            "marker": {
             "line": {
              "color": "#E5ECF6",
              "width": 0.5
             },
             "pattern": {
              "fillmode": "overlay",
              "size": 10,
              "solidity": 0.2
             }
            },
            "type": "bar"
           }
          ],
          "barpolar": [
           {
            "marker": {
             "line": {
              "color": "#E5ECF6",
              "width": 0.5
             },
             "pattern": {
              "fillmode": "overlay",
              "size": 10,
              "solidity": 0.2
             }
            },
            "type": "barpolar"
           }
          ],
          "carpet": [
           {
            "aaxis": {
             "endlinecolor": "#2a3f5f",
             "gridcolor": "white",
             "linecolor": "white",
             "minorgridcolor": "white",
             "startlinecolor": "#2a3f5f"
            },
            "baxis": {
             "endlinecolor": "#2a3f5f",
             "gridcolor": "white",
             "linecolor": "white",
             "minorgridcolor": "white",
             "startlinecolor": "#2a3f5f"
            },
            "type": "carpet"
           }
          ],
          "choropleth": [
           {
            "colorbar": {
             "outlinewidth": 0,
             "ticks": ""
            },
            "type": "choropleth"
           }
          ],
          "contour": [
           {
            "colorbar": {
             "outlinewidth": 0,
             "ticks": ""
            },
            "colorscale": [
             [
              0,
              "#0d0887"
             ],
             [
              0.1111111111111111,
              "#46039f"
             ],
             [
              0.2222222222222222,
              "#7201a8"
             ],
             [
              0.3333333333333333,
              "#9c179e"
             ],
             [
              0.4444444444444444,
              "#bd3786"
             ],
             [
              0.5555555555555556,
              "#d8576b"
             ],
             [
              0.6666666666666666,
              "#ed7953"
             ],
             [
              0.7777777777777778,
              "#fb9f3a"
             ],
             [
              0.8888888888888888,
              "#fdca26"
             ],
             [
              1,
              "#f0f921"
             ]
            ],
            "type": "contour"
           }
          ],
          "contourcarpet": [
           {
            "colorbar": {
             "outlinewidth": 0,
             "ticks": ""
            },
            "type": "contourcarpet"
           }
          ],
          "heatmap": [
           {
            "colorbar": {
             "outlinewidth": 0,
             "ticks": ""
            },
            "colorscale": [
             [
              0,
              "#0d0887"
             ],
             [
              0.1111111111111111,
              "#46039f"
             ],
             [
              0.2222222222222222,
              "#7201a8"
             ],
             [
              0.3333333333333333,
              "#9c179e"
             ],
             [
              0.4444444444444444,
              "#bd3786"
             ],
             [
              0.5555555555555556,
              "#d8576b"
             ],
             [
              0.6666666666666666,
              "#ed7953"
             ],
             [
              0.7777777777777778,
              "#fb9f3a"
             ],
             [
              0.8888888888888888,
              "#fdca26"
             ],
             [
              1,
              "#f0f921"
             ]
            ],
            "type": "heatmap"
           }
          ],
          "histogram": [
           {
            "marker": {
             "pattern": {
              "fillmode": "overlay",
              "size": 10,
              "solidity": 0.2
             }
            },
            "type": "histogram"
           }
          ],
          "histogram2d": [
           {
            "colorbar": {
             "outlinewidth": 0,
             "ticks": ""
            },
            "colorscale": [
             [
              0,
              "#0d0887"
             ],
             [
              0.1111111111111111,
              "#46039f"
             ],
             [
              0.2222222222222222,
              "#7201a8"
             ],
             [
              0.3333333333333333,
              "#9c179e"
             ],
             [
              0.4444444444444444,
              "#bd3786"
             ],
             [
              0.5555555555555556,
              "#d8576b"
             ],
             [
              0.6666666666666666,
              "#ed7953"
             ],
             [
              0.7777777777777778,
              "#fb9f3a"
             ],
             [
              0.8888888888888888,
              "#fdca26"
             ],
             [
              1,
              "#f0f921"
             ]
            ],
            "type": "histogram2d"
           }
          ],
          "histogram2dcontour": [
           {
            "colorbar": {
             "outlinewidth": 0,
             "ticks": ""
            },
            "colorscale": [
             [
              0,
              "#0d0887"
             ],
             [
              0.1111111111111111,
              "#46039f"
             ],
             [
              0.2222222222222222,
              "#7201a8"
             ],
             [
              0.3333333333333333,
              "#9c179e"
             ],
             [
              0.4444444444444444,
              "#bd3786"
             ],
             [
              0.5555555555555556,
              "#d8576b"
             ],
             [
              0.6666666666666666,
              "#ed7953"
             ],
             [
              0.7777777777777778,
              "#fb9f3a"
             ],
             [
              0.8888888888888888,
              "#fdca26"
             ],
             [
              1,
              "#f0f921"
             ]
            ],
            "type": "histogram2dcontour"
           }
          ],
          "mesh3d": [
           {
            "colorbar": {
             "outlinewidth": 0,
             "ticks": ""
            },
            "type": "mesh3d"
           }
          ],
          "parcoords": [
           {
            "line": {
             "colorbar": {
              "outlinewidth": 0,
              "ticks": ""
             }
            },
            "type": "parcoords"
           }
          ],
          "pie": [
           {
            "automargin": true,
            "type": "pie"
           }
          ],
          "scatter": [
           {
            "fillpattern": {
             "fillmode": "overlay",
             "size": 10,
             "solidity": 0.2
            },
            "type": "scatter"
           }
          ],
          "scatter3d": [
           {
            "line": {
             "colorbar": {
              "outlinewidth": 0,
              "ticks": ""
             }
            },
            "marker": {
             "colorbar": {
              "outlinewidth": 0,
              "ticks": ""
             }
            },
            "type": "scatter3d"
           }
          ],
          "scattercarpet": [
           {
            "marker": {
             "colorbar": {
              "outlinewidth": 0,
              "ticks": ""
             }
            },
            "type": "scattercarpet"
           }
          ],
          "scattergeo": [
           {
            "marker": {
             "colorbar": {
              "outlinewidth": 0,
              "ticks": ""
             }
            },
            "type": "scattergeo"
           }
          ],
          "scattergl": [
           {
            "marker": {
             "colorbar": {
              "outlinewidth": 0,
              "ticks": ""
             }
            },
            "type": "scattergl"
           }
          ],
          "scattermap": [
           {
            "marker": {
             "colorbar": {
              "outlinewidth": 0,
              "ticks": ""
             }
            },
            "type": "scattermap"
           }
          ],
          "scattermapbox": [
           {
            "marker": {
             "colorbar": {
              "outlinewidth": 0,
              "ticks": ""
             }
            },
            "type": "scattermapbox"
           }
          ],
          "scatterpolar": [
           {
            "marker": {
             "colorbar": {
              "outlinewidth": 0,
              "ticks": ""
             }
            },
            "type": "scatterpolar"
           }
          ],
          "scatterpolargl": [
           {
            "marker": {
             "colorbar": {
              "outlinewidth": 0,
              "ticks": ""
             }
            },
            "type": "scatterpolargl"
           }
          ],
          "scatterternary": [
           {
            "marker": {
             "colorbar": {
              "outlinewidth": 0,
              "ticks": ""
             }
            },
            "type": "scatterternary"
           }
          ],
          "surface": [
           {
            "colorbar": {
             "outlinewidth": 0,
             "ticks": ""
            },
            "colorscale": [
             [
              0,
              "#0d0887"
             ],
             [
              0.1111111111111111,
              "#46039f"
             ],
             [
              0.2222222222222222,
              "#7201a8"
             ],
             [
              0.3333333333333333,
              "#9c179e"
             ],
             [
              0.4444444444444444,
              "#bd3786"
             ],
             [
              0.5555555555555556,
              "#d8576b"
             ],
             [
              0.6666666666666666,
              "#ed7953"
             ],
             [
              0.7777777777777778,
              "#fb9f3a"
             ],
             [
              0.8888888888888888,
              "#fdca26"
             ],
             [
              1,
              "#f0f921"
             ]
            ],
            "type": "surface"
           }
          ],
          "table": [
           {
            "cells": {
             "fill": {
              "color": "#EBF0F8"
             },
             "line": {
              "color": "white"
             }
            },
            "header": {
             "fill": {
              "color": "#C8D4E3"
             },
             "line": {
              "color": "white"
             }
            },
            "type": "table"
           }
          ]
         },
         "layout": {
          "annotationdefaults": {
           "arrowcolor": "#2a3f5f",
           "arrowhead": 0,
           "arrowwidth": 1
          },
          "autotypenumbers": "strict",
          "coloraxis": {
           "colorbar": {
            "outlinewidth": 0,
            "ticks": ""
           }
          },
          "colorscale": {
           "diverging": [
            [
             0,
             "#8e0152"
            ],
            [
             0.1,
             "#c51b7d"
            ],
            [
             0.2,
             "#de77ae"
            ],
            [
             0.3,
             "#f1b6da"
            ],
            [
             0.4,
             "#fde0ef"
            ],
            [
             0.5,
             "#f7f7f7"
            ],
            [
             0.6,
             "#e6f5d0"
            ],
            [
             0.7,
             "#b8e186"
            ],
            [
             0.8,
             "#7fbc41"
            ],
            [
             0.9,
             "#4d9221"
            ],
            [
             1,
             "#276419"
            ]
           ],
           "sequential": [
            [
             0,
             "#0d0887"
            ],
            [
             0.1111111111111111,
             "#46039f"
            ],
            [
             0.2222222222222222,
             "#7201a8"
            ],
            [
             0.3333333333333333,
             "#9c179e"
            ],
            [
             0.4444444444444444,
             "#bd3786"
            ],
            [
             0.5555555555555556,
             "#d8576b"
            ],
            [
             0.6666666666666666,
             "#ed7953"
            ],
            [
             0.7777777777777778,
             "#fb9f3a"
            ],
            [
             0.8888888888888888,
             "#fdca26"
            ],
            [
             1,
             "#f0f921"
            ]
           ],
           "sequentialminus": [
            [
             0,
             "#0d0887"
            ],
            [
             0.1111111111111111,
             "#46039f"
            ],
            [
             0.2222222222222222,
             "#7201a8"
            ],
            [
             0.3333333333333333,
             "#9c179e"
            ],
            [
             0.4444444444444444,
             "#bd3786"
            ],
            [
             0.5555555555555556,
             "#d8576b"
            ],
            [
             0.6666666666666666,
             "#ed7953"
            ],
            [
             0.7777777777777778,
             "#fb9f3a"
            ],
            [
             0.8888888888888888,
             "#fdca26"
            ],
            [
             1,
             "#f0f921"
            ]
           ]
          },
          "colorway": [
           "#636efa",
           "#EF553B",
           "#00cc96",
           "#ab63fa",
           "#FFA15A",
           "#19d3f3",
           "#FF6692",
           "#B6E880",
           "#FF97FF",
           "#FECB52"
          ],
          "font": {
           "color": "#2a3f5f"
          },
          "geo": {
           "bgcolor": "white",
           "lakecolor": "white",
           "landcolor": "#E5ECF6",
           "showlakes": true,
           "showland": true,
           "subunitcolor": "white"
          },
          "hoverlabel": {
           "align": "left"
          },
          "hovermode": "closest",
          "mapbox": {
           "style": "light"
          },
          "paper_bgcolor": "white",
          "plot_bgcolor": "#E5ECF6",
          "polar": {
           "angularaxis": {
            "gridcolor": "white",
            "linecolor": "white",
            "ticks": ""
           },
           "bgcolor": "#E5ECF6",
           "radialaxis": {
            "gridcolor": "white",
            "linecolor": "white",
            "ticks": ""
           }
          },
          "scene": {
           "xaxis": {
            "backgroundcolor": "#E5ECF6",
            "gridcolor": "white",
            "gridwidth": 2,
            "linecolor": "white",
            "showbackground": true,
            "ticks": "",
            "zerolinecolor": "white"
           },
           "yaxis": {
            "backgroundcolor": "#E5ECF6",
            "gridcolor": "white",
            "gridwidth": 2,
            "linecolor": "white",
            "showbackground": true,
            "ticks": "",
            "zerolinecolor": "white"
           },
           "zaxis": {
            "backgroundcolor": "#E5ECF6",
            "gridcolor": "white",
            "gridwidth": 2,
            "linecolor": "white",
            "showbackground": true,
            "ticks": "",
            "zerolinecolor": "white"
           }
          },
          "shapedefaults": {
           "line": {
            "color": "#2a3f5f"
           }
          },
          "ternary": {
           "aaxis": {
            "gridcolor": "white",
            "linecolor": "white",
            "ticks": ""
           },
           "baxis": {
            "gridcolor": "white",
            "linecolor": "white",
            "ticks": ""
           },
           "bgcolor": "#E5ECF6",
           "caxis": {
            "gridcolor": "white",
            "linecolor": "white",
            "ticks": ""
           }
          },
          "title": {
           "x": 0.05
          },
          "xaxis": {
           "automargin": true,
           "gridcolor": "white",
           "linecolor": "white",
           "ticks": "",
           "title": {
            "standoff": 15
           },
           "zerolinecolor": "white",
           "zerolinewidth": 2
          },
          "yaxis": {
           "automargin": true,
           "gridcolor": "white",
           "linecolor": "white",
           "ticks": "",
           "title": {
            "standoff": 15
           },
           "zerolinecolor": "white",
           "zerolinewidth": 2
          }
         }
        },
        "title": {
         "text": "Top 3 Marcas Mayor Total de Ventas por Mes"
        },
        "xaxis": {
         "anchor": "y",
         "domain": [
          0,
          1
         ],
         "title": {
          "text": "Mes"
         }
        },
        "yaxis": {
         "anchor": "x",
         "domain": [
          0,
          1
         ],
         "title": {
          "text": "Total"
         }
        }
       }
      },
      "image/png": "[encoded data removed]"
     },
     "metadata": {},
     "output_type": "display_data"
    }
   ],
   "source": [
    "fig = px.bar(dfTop3MarcasVentas, x='Mes', y='Total', color='Marca',\n",
    "             title=\"Top 3 Marcas Mayor Total de Ventas por Mes\",text='Total', height=700)\n",
    "fig.update_layout(barmode='stack')\n",
    "fig.show()"
   ]
  }
 ],
 "metadata": {
  "kernelspec": {
   "display_name": "Python 3 (ipykernel)",
   "language": "python",
   "name": "python3"
  },
  "language_info": {
   "codemirror_mode": {
    "name": "ipython",
    "version": 3
   },
   "file_extension": ".py",
   "mimetype": "text/x-python",
   "name": "python",
   "nbconvert_exporter": "python",
   "pygments_lexer": "ipython3",
   "version": "3.9.5"
  }
 },
 "nbformat": 4,
 "nbformat_minor": 5
}
